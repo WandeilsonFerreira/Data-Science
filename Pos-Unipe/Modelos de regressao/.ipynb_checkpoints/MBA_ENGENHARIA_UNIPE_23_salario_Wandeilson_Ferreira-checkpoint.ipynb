{
 "cells": [
  {
   "cell_type": "markdown",
   "metadata": {
    "id": "N_6pXVIuK6qO"
   },
   "source": [
    "## Importando as bibliotecas necessárias para o desenvolvimento\n",
    "\n",
    "Importando as bibliotecas necessárias para o desenvolvimento"
   ]
  },
  {
   "cell_type": "code",
   "execution_count": 1,
   "metadata": {
    "id": "U3NEU2d_KtY-"
   },
   "outputs": [
    {
     "name": "stdout",
     "output_type": "stream",
     "text": [
      "2.0.1\n",
      "1.23.5\n"
     ]
    }
   ],
   "source": [
    "# Importing the libraries\n",
    "import numpy as np\n",
    "import matplotlib.pyplot as plt\n",
    "import pandas as pd\n",
    "\n",
    "# TO DO: Splitting the dataset into the Training set and Test set\n",
    "#==================================================================\n",
    "from sklearn.model_selection import train_test_split\n",
    "#==================================================================\n",
    "\n",
    "from sklearn.preprocessing import LabelEncoder\n",
    "\n",
    "# TO DO: Importar biblioteca de LinearRegression do sklearn\n",
    "#==================================================================\n",
    "from sklearn.linear_model import LinearRegression\n",
    "#==================================================================\n",
    "\n",
    "# Avaliando os modelos de regressão\n",
    "from sklearn.metrics import mean_squared_error\n",
    "\n",
    "# Bibliotecas de vizualização de dados\n",
    "import matplotlib.pyplot as plt\n",
    "\n",
    "print(pd.__version__)\n",
    "print(np.__version__)"
   ]
  },
  {
   "cell_type": "markdown",
   "metadata": {
    "id": "RFxi-67tLGm5"
   },
   "source": [
    "\n",
    "## Realizando a carga dos dados\n"
   ]
  },
  {
   "cell_type": "code",
   "execution_count": 2,
   "metadata": {
    "id": "xZqww75WKtZB"
   },
   "outputs": [],
   "source": [
    "# TO DO: Realizar a carga dos dados do arquivo salarios.csv\n",
    "#==================================================================\n",
    "salarios = pd.read_csv('salarios.csv')\n",
    "#=================================================================="
   ]
  },
  {
   "cell_type": "code",
   "execution_count": 4,
   "metadata": {},
   "outputs": [
    {
     "data": {
      "text/plain": [
       "Index(['AnosExperiencia', 'Salario', 'cargo'], dtype='object')"
      ]
     },
     "execution_count": 4,
     "metadata": {},
     "output_type": "execute_result"
    }
   ],
   "source": [
    "salarios.columns"
   ]
  },
  {
   "cell_type": "code",
   "execution_count": 5,
   "metadata": {},
   "outputs": [
    {
     "data": {
      "text/plain": [
       "(30, 3)"
      ]
     },
     "execution_count": 5,
     "metadata": {},
     "output_type": "execute_result"
    }
   ],
   "source": [
    "salarios.shape"
   ]
  },
  {
   "cell_type": "code",
   "execution_count": 6,
   "metadata": {
    "id": "w97cw8AF4bsq"
   },
   "outputs": [
    {
     "ename": "SyntaxError",
     "evalue": "':' expected after dictionary key (255813122.py, line 3)",
     "output_type": "error",
     "traceback": [
      "\u001b[0;36m  Cell \u001b[0;32mIn[6], line 3\u001b[0;36m\u001b[0m\n\u001b[0;31m    df.rename(columns={'AnosExperiencia': 'ANOSEXPERIENCIA', 'Salario': 'SALARIO', 'cargo':'CARGO', inplace=True})\u001b[0m\n\u001b[0m                                                                                                          ^\u001b[0m\n\u001b[0;31mSyntaxError\u001b[0m\u001b[0;31m:\u001b[0m ':' expected after dictionary key\n"
     ]
    }
   ],
   "source": [
    "# TO DO: Modificar os nomes das colunas para maiúsculas\n",
    "#==================================================================\n",
    "df.rename(columns={'AnosExperiencia': 'ANOSEXPERIENCIA', 'Salario': 'SALARIO', 'cargo':'CARGO', inplace=True})\n",
    "#=================================================================="
   ]
  },
  {
   "cell_type": "code",
   "execution_count": null,
   "metadata": {
    "id": "GKp3We1R0X20"
   },
   "outputs": [],
   "source": [
    "salarios.head()"
   ]
  },
  {
   "cell_type": "markdown",
   "metadata": {
    "id": "JdOoAQqckTEy"
   },
   "source": [
    "## Análise Exploratória de Dados\n",
    "\n",
    "Em estatística, a análise exploratória de dados (AED) é uma abordagem à análise de conjuntos de dados de modo a resumir suas características principais, frequentemente com métodos visuais. Um modelo estatístico pode ou não ser usado, mas primariamente a AED tem como objetivo observar o que os dados podem nos dizer além da modelagem formal ou do processo de teste de hipóteses.\n",
    "Fonte: Wikipedia"
   ]
  },
  {
   "cell_type": "code",
   "execution_count": null,
   "metadata": {
    "id": "0ah1KbP_KtZE"
   },
   "outputs": [],
   "source": [
    "#Análise Exploratória dos Dados\n",
    "# TO DO: Apresentar informações estatísticas descritivas do dataset\n",
    "\n"
   ]
  },
  {
   "cell_type": "markdown",
   "metadata": {
    "id": "R6Wc3ZJMmdaC"
   },
   "source": [
    "## Início da Análise Exploratória de Dados\n"
   ]
  },
  {
   "cell_type": "code",
   "execution_count": null,
   "metadata": {
    "id": "fK7-btEXmc2i"
   },
   "outputs": [],
   "source": [
    "# Visualizando o conjunto de dados\n",
    "salarios.hist(bins=30, figsize=(10,5))\n",
    "\n",
    "plt.show()"
   ]
  },
  {
   "cell_type": "code",
   "execution_count": null,
   "metadata": {
    "id": "z9aIW5kZmcvb"
   },
   "outputs": [],
   "source": [
    "# Objetivo: Visualizar se existe correlação\n",
    "\n",
    "salarios.plot(kind='scatter',\n",
    "              x='AnosExperiencia',\n",
    "              y='Salario',\n",
    "#               alpha=0.1 #Parametro para verificação de densidades\n",
    "             )"
   ]
  },
  {
   "cell_type": "code",
   "execution_count": null,
   "metadata": {
    "id": "qRycfFM2pXc6"
   },
   "outputs": [],
   "source": [
    "# TO DO: Verificar se existe correlação entre as variáveis.\n",
    "\n"
   ]
  },
  {
   "cell_type": "markdown",
   "metadata": {
    "id": "9DNpB1FMmaDS"
   },
   "source": [
    "## Resolver valores ausentes - Missing Values"
   ]
  },
  {
   "cell_type": "code",
   "execution_count": null,
   "metadata": {
    "id": "YkHmwkzYmZjN"
   },
   "outputs": [],
   "source": [
    "# Identifcando valores ausentes\n",
    "print(salarios.isnull().sum())"
   ]
  },
  {
   "cell_type": "code",
   "execution_count": null,
   "metadata": {
    "id": "qaLLLYjM0v18"
   },
   "outputs": [],
   "source": [
    "salarios.info()"
   ]
  },
  {
   "cell_type": "code",
   "execution_count": null,
   "metadata": {
    "id": "nKaE-gjg5G7J"
   },
   "outputs": [],
   "source": [
    "# TO DO: CRIANDO UMA INSTÂNCIA DA CLASSE LabelEncoder do sci-kit learn\n",
    "\n"
   ]
  },
  {
   "cell_type": "code",
   "execution_count": null,
   "metadata": {
    "id": "dX6mz6EV3ynH"
   },
   "outputs": [],
   "source": [
    "salarios.head()"
   ]
  },
  {
   "cell_type": "code",
   "execution_count": null,
   "metadata": {
    "id": "ZLdws6u8KtZN"
   },
   "outputs": [],
   "source": [
    "from IPython.display import display\n",
    "\n",
    "X = salarios.loc[:, ['anos ','CARGO']].values #Variáveis independentes\n",
    "y = salarios.loc[:, 'SALARIO'].values #Variável dependente - rótulo\n",
    "\n",
    "print(y)"
   ]
  },
  {
   "cell_type": "code",
   "execution_count": null,
   "metadata": {
    "id": "GKxApxRSKtZP"
   },
   "outputs": [],
   "source": [
    "from sklearn.model_selection import train_test_split\n",
    "\n",
    "#Separação do dataset em treinamento e tests\n",
    "X_train, X_test, y_train, y_test = train_test_split(X, y,\n",
    "                                                    test_size=0.30,\n",
    "                                                    random_state=0)\n",
    "\n",
    "print(X_train.shape)\n",
    "print(X_test.shape)\n",
    "print(y_train.shape)\n",
    "print(y_test.shape)"
   ]
  },
  {
   "cell_type": "markdown",
   "metadata": {
    "id": "qg71JwmMQ5LJ"
   },
   "source": [
    "## Criando o modelo de Linear Regression para o conjunto de treinamento\n"
   ]
  },
  {
   "cell_type": "code",
   "execution_count": null,
   "metadata": {
    "id": "QtIVxgsOKtZT"
   },
   "outputs": [],
   "source": [
    "# TODO: Instanciar um classificador para Regressão Logística (Logistic Regression)\n",
    "\n",
    "\n",
    "\n",
    "# Treinando o modelo\n",
    "linear_regressor.fit(X_train, y_train)"
   ]
  },
  {
   "cell_type": "code",
   "execution_count": null,
   "metadata": {
    "id": "RvzCBqd8KtZV"
   },
   "outputs": [],
   "source": [
    "# Prevendo alguns valores com o conjunto de dados de teste\n",
    "\n",
    "#Sem indicação de probabilidade\n",
    "y_pred = linear_regressor.predict(X_test)\n",
    "\n",
    "y_pred"
   ]
  },
  {
   "cell_type": "markdown",
   "metadata": {
    "id": "nHX1zgzbwjb4"
   },
   "source": [
    "## Avaliando Modelos de Regressão\n",
    "\n",
    "Uma medida de desempenho típica para problemas de **REGRESSÃO** é o **RMSE** (Root Mean Square Error). Ele dá uma idéia de quanto erro o sistema geralmente faz em suas previsões, com um peso maior para erros grandes.\n"
   ]
  },
  {
   "cell_type": "code",
   "execution_count": null,
   "metadata": {
    "id": "eUGGBmDgrhBw"
   },
   "outputs": [],
   "source": [
    "#Valiando o modelo de regressão linear\n",
    "\n",
    "salario_pred = linear_regressor.predict(X_train)\n",
    "linear_mse = mean_squared_error(y_test, y_pred)\n",
    "linear_rmse = np.sqrt(linear_mse)\n",
    "linear_rmse"
   ]
  },
  {
   "cell_type": "markdown",
   "metadata": {
    "id": "VjCP3i-u22gy"
   },
   "source": [
    "## Salvando o modelo para uso posterior"
   ]
  },
  {
   "cell_type": "code",
   "execution_count": null,
   "metadata": {
    "id": "BObSOax_wiy1"
   },
   "outputs": [],
   "source": [
    "import joblib\n",
    "\n",
    "joblib.dump(linear_regressor, 'linear_regressor_param_001.pkl')"
   ]
  },
  {
   "cell_type": "markdown",
   "metadata": {
    "id": "LIK27nkJ3QwK"
   },
   "source": [
    "## Restaurando o modelo com um novo conjunto de dados (nunca visto antes)"
   ]
  },
  {
   "cell_type": "code",
   "execution_count": null,
   "metadata": {
    "id": "rSty0oiM3QRP"
   },
   "outputs": [],
   "source": [
    "# TO DO: Fazendo a carga\n",
    "\n"
   ]
  },
  {
   "cell_type": "markdown",
   "metadata": {
    "id": "bp6DOa1m3rVI"
   },
   "source": [
    "## Utilizando o modelo highlander com dados novos"
   ]
  },
  {
   "cell_type": "code",
   "execution_count": null,
   "metadata": {
    "id": "dq8GTrhB3ktW"
   },
   "outputs": [],
   "source": [
    "# TO DO: Carga de NOVOS dados\n"
   ]
  },
  {
   "cell_type": "code",
   "execution_count": null,
   "metadata": {
    "id": "SqjzDY9u3Zjy"
   },
   "outputs": [],
   "source": [
    "salarios_novos_colaboradores.head()"
   ]
  },
  {
   "cell_type": "code",
   "execution_count": null,
   "metadata": {
    "id": "D7DdIA1g6FXv"
   },
   "outputs": [],
   "source": [
    "# TO DO: CRIANDO UMA INSTÂNCIA DA CLASSE LabelEncoder do sci-kit learn\n"
   ]
  },
  {
   "cell_type": "code",
   "execution_count": null,
   "metadata": {
    "id": "A5B7-3sz6JEo"
   },
   "outputs": [],
   "source": [
    "salarios_novos_colaboradores.head()"
   ]
  },
  {
   "cell_type": "code",
   "execution_count": null,
   "metadata": {
    "id": "-RFVnJSZ3Xu6"
   },
   "outputs": [],
   "source": [
    "X_train = salarios_novos_colaboradores.loc[:, ['AnosExperiencia','Cargo']].values\n",
    "\n",
    "y_salarios_futuros = linear_regressor_highlander.predict(X_train)\n",
    "\n",
    "print(y_salarios_futuros)"
   ]
  }
 ],
 "metadata": {
  "colab": {
   "provenance": []
  },
  "kernelspec": {
   "display_name": "Python 3 (ipykernel)",
   "language": "python",
   "name": "python3"
  },
  "language_info": {
   "codemirror_mode": {
    "name": "ipython",
    "version": 3
   },
   "file_extension": ".py",
   "mimetype": "text/x-python",
   "name": "python",
   "nbconvert_exporter": "python",
   "pygments_lexer": "ipython3",
   "version": "3.10.9"
  }
 },
 "nbformat": 4,
 "nbformat_minor": 1
}
